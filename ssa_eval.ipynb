{
 "cells": [
  {
   "cell_type": "code",
   "execution_count": 1,
   "metadata": {},
   "outputs": [],
   "source": [
    "import os\n",
    "import pandas as pd\n",
    "import json"
   ]
  },
  {
   "cell_type": "code",
   "execution_count": 3,
   "metadata": {},
   "outputs": [],
   "source": [
    "bbs_df = pd.read_csv('dataset_bbs_embench.csv')"
   ]
  },
  {
   "cell_type": "code",
   "execution_count": 9,
   "metadata": {},
   "outputs": [],
   "source": [
    "bb_1 = bbs_df[(bbs_df['binary'] == 'nbody') & (bbs_df['basic_block_address'] == '100cc')]"
   ]
  },
  {
   "cell_type": "code",
   "execution_count": 11,
   "metadata": {},
   "outputs": [
    {
     "data": {
      "text/plain": [
       "4            AUIPC gp, 9\n",
       "5     ADDI, gp, gp, 1780\n",
       "6     ADDI, a0, gp, 1864\n",
       "7           AUIPC a2, 10\n",
       "8     ADDI, a2, a2, -280\n",
       "9         SUB a2, a2, a0\n",
       "10     ADDI, a1, zero, 0\n",
       "11          JAL ra, 8732\n",
       "Name: instruction, dtype: object"
      ]
     },
     "execution_count": 11,
     "metadata": {},
     "output_type": "execute_result"
    }
   ],
   "source": [
    "instructions = bb_1['instruction']\n",
    "\n",
    "instructions"
   ]
  },
  {
   "cell_type": "code",
   "execution_count": 16,
   "metadata": {},
   "outputs": [],
   "source": [
    "def convert_to_ssa(instructions):\n",
    "    ssa_result = []\n",
    "    mapping = {}\n",
    "    register_counter = 1\n",
    "\n",
    "    for line in instructions:\n",
    "        parts = line.split()\n",
    "        operation = parts[0]\n",
    "        args = parts[1:]\n",
    "        \n",
    "        updated_args = []\n",
    "        for arg in args:\n",
    "            if ',' in arg:\n",
    "                arg = arg.strip(',')\n",
    "            if arg in mapping:\n",
    "                updated_args.append(mapping[arg])\n",
    "            else:\n",
    "                if arg.isalpha():  # Check if the argument is a register\n",
    "                    mapping[arg] = f\"r{register_counter}\"\n",
    "                    register_counter += 1\n",
    "                    updated_args.append(mapping[arg])\n",
    "                else:\n",
    "                    updated_args.append(arg)\n",
    "        \n",
    "        if len(updated_args) > 0 and updated_args[0] not in mapping:\n",
    "            mapping[updated_args[0]] = f\"r{register_counter}\"\n",
    "            updated_args[0] = mapping[updated_args[0]]\n",
    "            register_counter += 1\n",
    "        elif len(updated_args) > 0:\n",
    "            version_number = int(mapping[updated_args[0]][1:]) + 1\n",
    "            mapping[updated_args[0]] = f\"r{version_number}\"\n",
    "            updated_args[0] = mapping[updated_args[0]]\n",
    "        \n",
    "        ssa_line = f\"{operation} \" + \", \".join(updated_args)\n",
    "        ssa_result.append(ssa_line)\n",
    "\n",
    "    return ssa_result"
   ]
  },
  {
   "cell_type": "code",
   "execution_count": 24,
   "metadata": {},
   "outputs": [
    {
     "data": {
      "text/plain": [
       "['AUIPC r2, 9',\n",
       " 'ADDI, r3, r1, 1780',\n",
       " 'ADDI, r3, r1, 1864',\n",
       " 'AUIPC r4, 10',\n",
       " 'ADDI, r5, r4, -280',\n",
       " 'SUB r6, r4, r3',\n",
       " 'ADDI, r7, r6, 0',\n",
       " 'JAL r9, 8732']"
      ]
     },
     "execution_count": 24,
     "metadata": {},
     "output_type": "execute_result"
    }
   ],
   "source": [
    "convert_to_ssa(instructions)"
   ]
  },
  {
   "cell_type": "code",
   "execution_count": 37,
   "metadata": {},
   "outputs": [
    {
     "data": {
      "text/plain": [
       "['ADDI, r2, r1, 15', 'ADDI, r3, a0, 0', 'BGEU r4, a2, 52']"
      ]
     },
     "execution_count": 37,
     "metadata": {},
     "output_type": "execute_result"
    }
   ],
   "source": [
    "bb_1 = bbs_df[(bbs_df['binary'] == 'statemate') & (bbs_df['basic_block_address'] == '123f4')]\n",
    "bb1_inst = bb_1['instruction']\n",
    "\n",
    "ssa_1 = convert_to_ssa(bb1_inst)\n",
    "\n",
    "ssa_1"
   ]
  },
  {
   "cell_type": "code",
   "execution_count": 38,
   "metadata": {},
   "outputs": [
    {
     "data": {
      "text/plain": [
       "['ADDI, r2, r1, 15', 'ADDI, r3, a0, 0', 'BGEU r4, a2, 52']"
      ]
     },
     "execution_count": 38,
     "metadata": {},
     "output_type": "execute_result"
    }
   ],
   "source": [
    "bb_2 = bbs_df[(bbs_df['binary'] == 'aha-mont64') & (bbs_df['basic_block_address'] == '10d60')]\n",
    "bb2_inst = bb_2['instruction']\n",
    "\n",
    "ssa_2 = convert_to_ssa(bb2_inst)\n",
    "\n",
    "ssa_2"
   ]
  },
  {
   "cell_type": "code",
   "execution_count": null,
   "metadata": {},
   "outputs": [],
   "source": [
    "def compare_ssa_arrays(ssa_array1, ssa_array2):\n",
    "    if len(ssa_array1) != len(ssa_array2):\n",
    "        return False\n",
    "\n",
    "    for instr1, instr2 in zip(ssa_array1, ssa_array2):\n",
    "        if instr1 != instr2:\n",
    "            return False\n",
    "\n",
    "    return True"
   ]
  },
  {
   "cell_type": "code",
   "execution_count": 40,
   "metadata": {},
   "outputs": [
    {
     "data": {
      "text/plain": [
       "True"
      ]
     },
     "execution_count": 40,
     "metadata": {},
     "output_type": "execute_result"
    }
   ],
   "source": [
    "compare_ssa_arrays(ssa_1, ssa_2)"
   ]
  },
  {
   "cell_type": "code",
   "execution_count": null,
   "metadata": {},
   "outputs": [],
   "source": []
  }
 ],
 "metadata": {
  "kernelspec": {
   "display_name": "Python 3",
   "language": "python",
   "name": "python3"
  },
  "language_info": {
   "codemirror_mode": {
    "name": "ipython",
    "version": 3
   },
   "file_extension": ".py",
   "mimetype": "text/x-python",
   "name": "python",
   "nbconvert_exporter": "python",
   "pygments_lexer": "ipython3",
   "version": "3.10.12"
  }
 },
 "nbformat": 4,
 "nbformat_minor": 2
}
